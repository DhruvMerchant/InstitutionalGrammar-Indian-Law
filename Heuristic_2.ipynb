{
 "cells": [
  {
   "cell_type": "code",
   "execution_count": 1,
   "metadata": {
    "id": "g2UrNxQ1OYEG"
   },
   "outputs": [],
   "source": [
    "import spacy\n",
    "from spacy import displacy\n",
    "import numpy as np\n",
    "import pandas as pd"
   ]
  },
  {
   "cell_type": "code",
   "execution_count": 2,
   "metadata": {
    "id": "qk_wH8YEOakI"
   },
   "outputs": [],
   "source": [
    "nlp = spacy.load('en_core_web_sm')"
   ]
  },
  {
   "cell_type": "code",
   "execution_count": 3,
   "metadata": {
    "colab": {
     "base_uri": "https://localhost:8080/",
     "height": 73
    },
    "id": "YivwpZmMEU7T",
    "outputId": "4613ed51-f030-430c-eeaf-f49474ae8bb5"
   },
   "outputs": [],
   "source": [
    "# from google.colab import files\n",
    "\n",
    "\n",
    "# uploaded = files.upload()\n"
   ]
  },
  {
   "cell_type": "code",
   "execution_count": 4,
   "metadata": {
    "colab": {
     "base_uri": "https://localhost:8080/"
    },
    "id": "znxPRdV0Egam",
    "outputId": "dea73470-f57e-4ef5-b527-8e3e0753d669"
   },
   "outputs": [
    {
     "name": "stdout",
     "output_type": "stream",
     "text": [
      "                                                    0\n",
      "0   Where immediately before the issue of a notifi...\n",
      "1   Where in respect of an industrial dispute rela...\n",
      "2   At the time of hearing, the authority may dire...\n",
      "3   The authority referred to in sub-section (6) m...\n",
      "4   Finality of orders constituting Board, Committ...\n",
      "5   Chief Inspector- The State Government may, by ...\n",
      "6   Where the applicant succeeds in such proceedin...\n",
      "7   Penalty for obstructing Inspector. -Whoever wi...\n",
      "8   Protection to persons acting under the Act. - ...\n",
      "9   Transfer of cases from one Court to another. -...\n",
      "10  Removal of difficulties.-If any difficulty ari...\n",
      "11  Provided that the appropriate Government may, ...\n",
      "12  Provided that in relation to the State of Jamm...\n",
      "13  Provided further that when the provisions of t...\n",
      "14  Every employee shall be entitled to be paid by...\n",
      "15  Subject to the other provisions of this Act, e...\n",
      "16  Where in respect of any accounting year referr...\n",
      "17  In computing the allocable surplus under this ...\n",
      "18  Where the salary or wage of an employee exceed...\n",
      "19  Where an employee has not worked for all the w...\n",
      "20  Where for any accounting year, the allocable s...\n",
      "21  Where for any accounting year, there is no ava...\n",
      "22  The principle of set on and set off as illustr...\n",
      "23  Where in any accounting year any amount has be...\n",
      "24  Where an establishment newly set up, whether b...\n",
      "25  In the first five accounting year following th...\n",
      "26  From the eighth accounting year following the ...\n",
      "27  Where in any accounting year, an employee is f...\n",
      "28  If in any accounting year an establishment in ...\n",
      "29  Where any money is due to an employee by way o...\n",
      "30  Provided that every such application shall be ...\n",
      "31  Provided further that any such application may...\n",
      "32  Where any dispute arises between an employer a...\n",
      "33  Where, during the course of proceedings before...\n",
      "34  When an application is made to the said author...\n",
      "35  Where any dispute of the nature specified in s...\n",
      "36  Nothing contained in sub-section (1) shall ena...\n",
      "37  Where any dispute of the nature specified in s...\n",
      "38  When the said authority finds that the account...\n",
      "39  Where an employer fails to get the accounts au...\n",
      "40  The expenses of and incidental to, any audit u...\n",
      "41  Every employer shall prepare and maintain such...\n",
      "42  The appropriate Government may, by notificatio...\n",
      "43  Every Inspector shall be deemed to be a public...\n",
      "44  Any person required to produce any accounts, b...\n",
      "45  Nothing contained in this section shall enable...\n",
      "46  If the person committing an offence under this...\n",
      "47  Provided that nothing contained in this sub-se...\n",
      "48  Notwithstanding anything contained in sub-sect...\n",
      "49  No court shall take cognizance of any offence ...\n"
     ]
    }
   ],
   "source": [
    "df = pd.read_csv('heuristics.csv',header=None)\n",
    "print(df)\n"
   ]
  },
  {
   "cell_type": "code",
   "execution_count": 5,
   "metadata": {
    "colab": {
     "base_uri": "https://localhost:8080/",
     "height": 206
    },
    "id": "WjTbp0v9Fkco",
    "outputId": "0338e3ce-d6bd-4d92-bb07-d84893141fa7"
   },
   "outputs": [
    {
     "data": {
      "text/html": [
       "<div>\n",
       "<style scoped>\n",
       "    .dataframe tbody tr th:only-of-type {\n",
       "        vertical-align: middle;\n",
       "    }\n",
       "\n",
       "    .dataframe tbody tr th {\n",
       "        vertical-align: top;\n",
       "    }\n",
       "\n",
       "    .dataframe thead th {\n",
       "        text-align: right;\n",
       "    }\n",
       "</style>\n",
       "<table border=\"1\" class=\"dataframe\">\n",
       "  <thead>\n",
       "    <tr style=\"text-align: right;\">\n",
       "      <th></th>\n",
       "      <th>0</th>\n",
       "    </tr>\n",
       "  </thead>\n",
       "  <tbody>\n",
       "    <tr>\n",
       "      <th>0</th>\n",
       "      <td>Where immediately before the issue of a notifi...</td>\n",
       "    </tr>\n",
       "    <tr>\n",
       "      <th>1</th>\n",
       "      <td>Where in respect of an industrial dispute rela...</td>\n",
       "    </tr>\n",
       "    <tr>\n",
       "      <th>2</th>\n",
       "      <td>At the time of hearing, the authority may dire...</td>\n",
       "    </tr>\n",
       "    <tr>\n",
       "      <th>3</th>\n",
       "      <td>The authority referred to in sub-section (6) m...</td>\n",
       "    </tr>\n",
       "    <tr>\n",
       "      <th>4</th>\n",
       "      <td>Finality of orders constituting Board, Committ...</td>\n",
       "    </tr>\n",
       "  </tbody>\n",
       "</table>\n",
       "</div>"
      ],
      "text/plain": [
       "                                                   0\n",
       "0  Where immediately before the issue of a notifi...\n",
       "1  Where in respect of an industrial dispute rela...\n",
       "2  At the time of hearing, the authority may dire...\n",
       "3  The authority referred to in sub-section (6) m...\n",
       "4  Finality of orders constituting Board, Committ..."
      ]
     },
     "execution_count": 5,
     "metadata": {},
     "output_type": "execute_result"
    }
   ],
   "source": [
    "df.head()"
   ]
  },
  {
   "cell_type": "code",
   "execution_count": 6,
   "metadata": {
    "colab": {
     "base_uri": "https://localhost:8080/"
    },
    "id": "bLC2L2wdE6r-",
    "outputId": "30a02c17-0d0e-43bc-894c-a3a61dbf3f62"
   },
   "outputs": [
    {
     "name": "stdout",
     "output_type": "stream",
     "text": [
      "3 \t\n",
      "be \t AUX \t\n",
      "\n",
      "\n",
      "4 \t\n",
      "apply \t VERB \t\n",
      "\n",
      "\n",
      "5 \t\n",
      "direct \t VERB \t\n",
      "paid \t VERB \t\n",
      "\n",
      "\n",
      "6 \t\n",
      "allow \t VERB \t\n",
      "\n",
      "\n",
      "7 \t\n",
      "Finality \t NOUN \t\n",
      "called \t VERB \t\n",
      "\n",
      "\n",
      "8 \t\n",
      "appoint \t VERB \t\n",
      "\n",
      "\n",
      "9 \t\n",
      "calculate \t VERB \t\n",
      "be \t AUX \t\n",
      "\n",
      "\n",
      "10 \t\n",
      "Penalty \t NOUN \t\n",
      "obstructs \t VERB \t\n",
      "\n",
      "\n",
      "11 \t\n",
      "Protection \t NOUN \t\n",
      "lie \t VERB \t\n",
      "\n",
      "\n",
      "12 \t\n",
      "Transfer \t NOUN \t\n",
      "- \t PUNCT \t\n",
      "subordinate \t ADJ \t\n",
      "\n",
      "\n",
      "13 \t\n",
      "do \t VERB \t\n",
      "\n",
      "\n",
      "14 \t\n",
      "Provided \t VERB \t\n",
      "employing \t VERB \t\n",
      "\n",
      "\n",
      "15 \t\n",
      "Provided \t VERB \t\n",
      "\n",
      "\n",
      "16 \t\n",
      "Provided \t VERB \t\n",
      "\n",
      "\n",
      "17 \t\n",
      "entitled \t VERB \t\n",
      "\n",
      "\n",
      "18 \t\n",
      "bound \t VERB \t\n",
      "\n",
      "\n",
      "19 \t\n",
      "bound \t VERB \t\n",
      "\n",
      "\n",
      "20 \t\n",
      "taken \t VERB \t\n",
      "\n",
      "\n",
      "21 \t\n",
      "calculated \t VERB \t\n",
      "\n",
      "\n",
      "22 \t\n",
      "reduced \t VERB \t\n",
      "\n",
      "\n",
      "23 \t\n",
      "exceeds \t VERB \t\n",
      "carried \t VERB \t\n",
      "\n",
      "\n",
      "24 \t\n",
      "carried \t VERB \t\n",
      "\n",
      "\n",
      "25 \t\n",
      "apply \t VERB \t\n",
      "\n",
      "\n",
      "26 \t\n",
      "taken \t VERB \t\n",
      "\n",
      "\n",
      "27 \t\n",
      "Where \t SCONJ \t\n",
      "\n",
      "\n",
      "28 \t\n",
      "be \t AUX \t\n",
      "\n",
      "\n",
      "29 \t\n",
      "apply \t VERB \t\n",
      "\n",
      "\n",
      "30 \t\n",
      "be \t AUX \t\n",
      "\n",
      "\n",
      "31 \t\n",
      "sells \t VERB \t\n",
      "\n",
      "\n",
      "32 \t\n",
      "make \t VERB \t\n",
      "\n",
      "\n",
      "33 \t\n",
      "Provided \t VERB \t\n",
      "\n",
      "\n",
      "34 \t\n",
      "Provided \t VERB \t\n",
      "\n",
      "\n",
      "35 \t\n",
      "deemed \t VERB \t\n",
      "\n",
      "\n",
      "36 \t\n",
      "14 \t NUM \t\n",
      "[ \t X \t\n",
      "referred \t VERB \t\n",
      "\n",
      "\n",
      "37 \t\n",
      "comply \t VERB \t\n",
      "\n",
      "\n",
      "38 \t\n",
      "specified \t VERB \t\n",
      "\n",
      "\n",
      "39 \t\n",
      "enable \t VERB \t\n",
      "\n",
      "\n",
      "40 \t\n",
      "specified \t VERB \t\n",
      "\n",
      "\n",
      "41 \t\n",
      "direct \t VERB \t\n",
      "\n",
      "\n",
      "42 \t\n",
      "get \t VERB \t\n",
      "\n",
      "\n",
      "43 \t\n",
      "determined \t VERB \t\n",
      "\n",
      "\n",
      "44 \t\n",
      "prepare \t VERB \t\n",
      "\n",
      "\n",
      "45 \t\n",
      "appoint \t VERB \t\n",
      "\n",
      "\n",
      "46 \t\n",
      "deemed \t VERB \t\n",
      "\n",
      "\n",
      "47 \t\n",
      "bound \t VERB \t\n",
      "\n",
      "\n",
      "48 \t\n",
      "enable \t VERB \t\n",
      "\n",
      "\n",
      "49 \t\n",
      "deemed \t VERB \t\n",
      "\n",
      "\n",
      "50 \t\n",
      "diligence \t NOUN \t\n",
      "\n",
      "\n",
      "51 \t\n",
      "Notwithstanding \t ADP \t\n",
      "\n",
      "\n",
      "52 \t\n",
      "take \t VERB \t\n",
      "authorised \t VERB \t\n",
      "\n",
      "\n"
     ]
    }
   ],
   "source": [
    "i = 3\n",
    "for index,row in df.iterrows():\n",
    "    sentence = row.values[0]\n",
    "    doc = nlp(sentence)\n",
    "    print(i,\"\\t\")\n",
    "    for token in doc:\n",
    "        ancestors = [t.text for t in token.ancestors]\n",
    "        children = [t.text for t in token.children]\n",
    "        if(token.dep_ == \"ROOT\"):\n",
    "            print(token.text, \"\\t\", \n",
    "          token.pos_, \"\\t\" )\n",
    "    i = i + 1\n",
    "    print(\"\\n\")"
   ]
  },
  {
   "cell_type": "code",
   "execution_count": 7,
   "metadata": {
    "colab": {
     "base_uri": "https://localhost:8080/"
    },
    "id": "qDehp-0WHIv5",
    "outputId": "326295be-74c2-47be-8427-af63f19c118f"
   },
   "outputs": [
    {
     "name": "stdout",
     "output_type": "stream",
     "text": [
      "take \t 3 \t VERB \t ROOT \t [] \t ['court', 'shall', 'cognizance', ',', 'save']\n",
      "authorised \t 76 \t VERB \t ROOT \t [] \t ['[', 'specially', 'in', 'by']\n"
     ]
    }
   ],
   "source": [
    "for token in doc:\n",
    "    ancestors = [t.text for t in token.ancestors]\n",
    "    children = [t.text for t in token.children]\n",
    "    if(token.dep_ == \"ROOT\"):\n",
    "        print(token.text, \"\\t\", token.i, \"\\t\", \n",
    "          token.pos_, \"\\t\", token.dep_, \"\\t\", \n",
    "          ancestors, \"\\t\", children)"
   ]
  },
  {
   "cell_type": "code",
   "execution_count": 8,
   "metadata": {
    "id": "kOU47IrpOboI"
   },
   "outputs": [],
   "source": [
    "sentence = \"Protection to persons acting under the Act. - No suit, prosecution or other legal proceeding whatsoever shall lie against any person for anything which is in good faith done or intended to be done in due discharge of his duties under this Act.\""
   ]
  },
  {
   "cell_type": "code",
   "execution_count": 9,
   "metadata": {
    "id": "jkmrblIEOdv2"
   },
   "outputs": [],
   "source": [
    "doc = nlp(sentence)"
   ]
  },
  {
   "cell_type": "code",
   "execution_count": 10,
   "metadata": {
    "colab": {
     "base_uri": "https://localhost:8080/"
    },
    "id": "Y9TRnSGWOfCK",
    "outputId": "326295be-74c2-47be-8427-af63f19c118f"
   },
   "outputs": [
    {
     "name": "stdout",
     "output_type": "stream",
     "text": [
      "Protection \t 0 \t NOUN \t ROOT \t [] \t ['to', '.', '-']\n",
      "lie \t 19 \t VERB \t ROOT \t [] \t ['suit', 'shall', 'against', 'for', '.']\n"
     ]
    }
   ],
   "source": [
    "for token in doc:\n",
    "    ancestors = [t.text for t in token.ancestors]\n",
    "    children = [t.text for t in token.children]\n",
    "    if(token.dep_ == \"ROOT\"):\n",
    "        print(token.text, \"\\t\", token.i, \"\\t\", \n",
    "            token.pos_, \"\\t\", token.dep_, \"\\t\", \n",
    "            ancestors, \"\\t\", children)"
   ]
  },
  {
   "cell_type": "code",
   "execution_count": 11,
   "metadata": {
    "id": "6kgL9oxPOg4u"
   },
   "outputs": [],
   "source": [
    "def find_root_of_sentence(doc):\n",
    "    root_token = None\n",
    "    for token in doc:\n",
    "        if (token.dep_ == \"ROOT\"):\n",
    "            root_token = token\n",
    "    return root_token"
   ]
  },
  {
   "cell_type": "code",
   "execution_count": 12,
   "metadata": {
    "id": "iQ3hUGKCOjeT"
   },
   "outputs": [],
   "source": [
    "root_token = find_root_of_sentence(doc)"
   ]
  },
  {
   "cell_type": "code",
   "execution_count": 13,
   "metadata": {
    "id": "JG103jHJOksw"
   },
   "outputs": [],
   "source": [
    "def find_other_verbs(doc, root_token):\n",
    "    other_verbs = []\n",
    "    for token in doc:\n",
    "        ancestors = list(token.ancestors)\n",
    "        if (token.pos_ == \"VERB\" and len(ancestors) == 1\\\n",
    "            and ancestors[0] == root_token):\n",
    "            other_verbs.append(token)\n",
    "    return other_verbs"
   ]
  },
  {
   "cell_type": "code",
   "execution_count": 14,
   "metadata": {
    "id": "1m7wbVAEOmDB"
   },
   "outputs": [],
   "source": [
    "other_verbs = find_other_verbs(doc, root_token)"
   ]
  },
  {
   "cell_type": "code",
   "execution_count": 15,
   "metadata": {
    "id": "OEzfucUUPS4N"
   },
   "outputs": [],
   "source": [
    "def get_clause_token_span_for_verb(verb, doc, all_verbs):\n",
    "    first_token_index = len(doc)\n",
    "    last_token_index = 0\n",
    "    this_verb_children = list(verb.children)\n",
    "    for child in this_verb_children:\n",
    "        if (child not in all_verbs):\n",
    "            if (child.i < first_token_index):\n",
    "                first_token_index = child.i\n",
    "            if (child.i > last_token_index):\n",
    "                last_token_index = child.i\n",
    "    return(first_token_index, last_token_index)"
   ]
  },
  {
   "cell_type": "code",
   "execution_count": 16,
   "metadata": {
    "id": "4Qdo3GjQPS0o"
   },
   "outputs": [],
   "source": [
    "token_spans = []   \n",
    "all_verbs = [root_token] + other_verbs\n",
    "for other_verb in all_verbs:\n",
    "    (first_token_index, last_token_index) = \\\n",
    "     get_clause_token_span_for_verb(other_verb, \n",
    "                                    doc, all_verbs)\n",
    "    token_spans.append((first_token_index, \n",
    "                        last_token_index))"
   ]
  },
  {
   "cell_type": "code",
   "execution_count": 17,
   "metadata": {
    "id": "ckEOXFcdPSxb"
   },
   "outputs": [],
   "source": [
    "sentence_clauses = []\n",
    "for token_span in token_spans:\n",
    "    start = token_span[0]\n",
    "    end = token_span[1]\n",
    "    if (start < end):\n",
    "        clause = doc[start:end]\n",
    "        sentence_clauses.append(clause)\n",
    "sentence_clauses = sorted(sentence_clauses, \n",
    "                          key=lambda tup: tup[0])"
   ]
  },
  {
   "cell_type": "code",
   "execution_count": 18,
   "metadata": {
    "colab": {
     "base_uri": "https://localhost:8080/"
    },
    "id": "kN27J4XUPSkG",
    "outputId": "c734386d-702f-407b-b0f5-3e82400811c5"
   },
   "outputs": [
    {
     "name": "stdout",
     "output_type": "stream",
     "text": [
      "['suit, prosecution or other legal proceeding whatsoever shall lie against any person for anything which is in good faith done or intended to be done in due discharge of his duties under this Act']\n"
     ]
    }
   ],
   "source": [
    "clauses_text = [clause.text for clause in sentence_clauses]\n",
    "print(clauses_text)"
   ]
  },
  {
   "cell_type": "markdown",
   "metadata": {
    "id": "EpUAGS4UVtsU"
   },
   "source": [
    "# **REPLICATING ONLINE SPACY**\n",
    "\n",
    "DHRUV'S AIM-ATTRIBUTE-DEONTIC"
   ]
  },
  {
   "cell_type": "code",
   "execution_count": 19,
   "metadata": {
    "id": "lDtrr1vpR7En"
   },
   "outputs": [],
   "source": [
    "nlp = spacy.load(\"en_core_web_sm\")\n",
    "sentence = \"Provided that nothing contained in this sub-section shall render any such person liable to any punishment if he proves that the offence was committed without his knowledge or that he exercised all; due diligence to prevent the commission of such offence\"\n",
    "doc = nlp(sentence)\n",
    "\n",
    "\n",
    "def merge_phrases(doc):\n",
    "    with doc.retokenize() as retokenizer:\n",
    "        for np in list(doc.noun_chunks):\n",
    "            attrs = {\n",
    "                \"tag\": np.root.tag_,\n",
    "                \"lemma\": np.root.lemma_,\n",
    "                \"ent_type\": np.root.ent_type_,\n",
    "            }\n",
    "            retokenizer.merge(np, attrs=attrs)\n",
    "    return doc\n",
    "\n",
    "def merge_punct(doc):\n",
    "    spans = []\n",
    "    for word in doc[:-1]:\n",
    "        if word.is_punct or not word.nbor(1).is_punct:\n",
    "            continue\n",
    "        start = word.i\n",
    "        end = word.i + 1\n",
    "        while end < len(doc) and doc[end].is_punct:\n",
    "            end += 1\n",
    "        span = doc[start:end]\n",
    "        spans.append((span, word.tag_, word.lemma_, word.ent_type_))\n",
    "    with doc.retokenize() as retokenizer:\n",
    "        for span, tag, lemma, ent_type in spans:\n",
    "            attrs = {\"tag\": tag, \"lemma\": lemma, \"ent_type\": ent_type}\n",
    "            retokenizer.merge(span, attrs=attrs)\n",
    "    return doc\n",
    "\n",
    "# Merge noun phrases into one token.\n",
    "doc = merge_phrases(doc)\n",
    "# Attach punctuation to tokens\n",
    "doc = merge_punct(doc)"
   ]
  },
  {
   "cell_type": "code",
   "execution_count": 20,
   "metadata": {
    "id": "INayE3oaaKfT"
   },
   "outputs": [
    {
     "name": "stdout",
     "output_type": "stream",
     "text": [
      "Provided VERB prep ['diligence'] ['render'] [] ['render']\n",
      "that SCONJ mark ['render', 'Provided', 'diligence'] [] [] []\n",
      "nothing PRON nsubj ['render', 'Provided', 'diligence'] ['contained'] [] ['contained']\n",
      "contained VERB acl ['nothing', 'render', 'Provided', 'diligence'] ['in'] [] ['in']\n",
      "in ADP prep ['contained', 'nothing', 'render', 'Provided', 'diligence'] ['this sub-'] [] ['this sub-']\n",
      "this sub- NOUN pobj ['in', 'contained', 'nothing', 'render', 'Provided', 'diligence'] [] [] []\n",
      "section NOUN nsubj ['render', 'Provided', 'diligence'] [] [] []\n",
      "shall AUX aux ['render', 'Provided', 'diligence'] [] [] []\n",
      "render VERB ccomp ['Provided', 'diligence'] ['that', 'nothing', 'section', 'shall', 'liable', 'proves'] ['that', 'nothing', 'section', 'shall'] ['liable', 'proves']\n",
      "any such person NOUN nsubj ['liable', 'render', 'Provided', 'diligence'] [] [] []\n",
      "liable ADJ ccomp ['render', 'Provided', 'diligence'] ['any such person', 'to'] ['any such person'] ['to']\n",
      "to ADP prep ['liable', 'render', 'Provided', 'diligence'] ['any punishment'] [] ['any punishment']\n",
      "any punishment NOUN pobj ['to', 'liable', 'render', 'Provided', 'diligence'] [] [] []\n",
      "if SCONJ mark ['proves', 'render', 'Provided', 'diligence'] [] [] []\n",
      "he PRON nsubj ['proves', 'render', 'Provided', 'diligence'] [] [] []\n",
      "proves VERB advcl ['render', 'Provided', 'diligence'] ['if', 'he', 'committed'] ['if', 'he'] ['committed']\n",
      "that SCONJ mark ['committed', 'proves', 'render', 'Provided', 'diligence'] [] [] []\n",
      "the offence NOUN nsubjpass ['committed', 'proves', 'render', 'Provided', 'diligence'] [] [] []\n",
      "was AUX auxpass ['committed', 'proves', 'render', 'Provided', 'diligence'] [] [] []\n",
      "committed VERB ccomp ['proves', 'render', 'Provided', 'diligence'] ['that', 'the offence', 'was', 'without', 'or', 'exercised'] ['that', 'the offence', 'was'] ['without', 'or', 'exercised']\n",
      "without ADP prep ['committed', 'proves', 'render', 'Provided', 'diligence'] ['his knowledge'] [] ['his knowledge']\n",
      "his knowledge NOUN pobj ['without', 'committed', 'proves', 'render', 'Provided', 'diligence'] [] [] []\n",
      "or CCONJ cc ['committed', 'proves', 'render', 'Provided', 'diligence'] [] [] []\n",
      "that SCONJ mark ['exercised', 'committed', 'proves', 'render', 'Provided', 'diligence'] [] [] []\n",
      "he PRON nsubj ['exercised', 'committed', 'proves', 'render', 'Provided', 'diligence'] [] [] []\n",
      "exercised VERB conj ['committed', 'proves', 'render', 'Provided', 'diligence'] ['that', 'he', 'all;'] ['that', 'he'] ['all;']\n",
      "all; PRON dobj ['exercised', 'committed', 'proves', 'render', 'Provided', 'diligence'] [] [] []\n",
      "due ADJ amod ['diligence'] [] [] []\n",
      "diligence NOUN ROOT [] ['Provided', 'due', 'prevent'] ['Provided', 'due'] ['prevent']\n",
      "to PART aux ['prevent', 'diligence'] [] [] []\n",
      "prevent VERB relcl ['diligence'] ['to', 'the commission'] ['to'] ['the commission']\n",
      "the commission NOUN dobj ['prevent', 'diligence'] ['of'] [] ['of']\n",
      "of ADP prep ['the commission', 'prevent', 'diligence'] ['such offence'] [] ['such offence']\n",
      "such offence NOUN pobj ['of', 'the commission', 'prevent', 'diligence'] [] [] []\n"
     ]
    }
   ],
   "source": [
    "for token in doc:\n",
    "    ancestors = [t.text for t in token.ancestors]\n",
    "    ancestors_token = [t for t in token.ancestors]\n",
    "    children = [t.text for t in token.children]\n",
    "    children_token = [t for t in token.children]\n",
    "    left = [t.text for t in token.lefts]\n",
    "    right = [t.text for t in token.rights]\n",
    "    print(token.text, token.pos_, token.dep_,ancestors,children,left,right)\n"
   ]
  },
  {
   "cell_type": "code",
   "execution_count": 21,
   "metadata": {
    "colab": {
     "base_uri": "https://localhost:8080/"
    },
    "id": "bPG8wIXeZw4F",
    "outputId": "9c827b0f-e918-48fa-cea5-997cfc53fd29"
   },
   "outputs": [
    {
     "data": {
      "text/plain": [
       "[]"
      ]
     },
     "execution_count": 21,
     "metadata": {},
     "output_type": "execute_result"
    }
   ],
   "source": [
    "ners = [(e,type(e)) for e in doc.ents]\n",
    "ners"
   ]
  },
  {
   "cell_type": "code",
   "execution_count": 22,
   "metadata": {
    "colab": {
     "base_uri": "https://localhost:8080/"
    },
    "id": "octN1zmMZTwO",
    "outputId": "5ab589d5-dce4-4350-df1e-07b68757dfa8"
   },
   "outputs": [
    {
     "data": {
      "text/plain": [
       "[('tok2vec', <spacy.pipeline.tok2vec.Tok2Vec at 0x1ef4ab5bd00>),\n",
       " ('tagger', <spacy.pipeline.tagger.Tagger at 0x1ef4ab5ae00>),\n",
       " ('parser', <spacy.pipeline.dep_parser.DependencyParser at 0x1ef4ab910e0>),\n",
       " ('attribute_ruler',\n",
       "  <spacy.pipeline.attributeruler.AttributeRuler at 0x1ef4be40640>),\n",
       " ('lemmatizer', <spacy.lang.en.lemmatizer.EnglishLemmatizer at 0x1ef4be05680>),\n",
       " ('ner', <spacy.pipeline.ner.EntityRecognizer at 0x1ef4ab90eb0>)]"
      ]
     },
     "execution_count": 22,
     "metadata": {},
     "output_type": "execute_result"
    }
   ],
   "source": [
    "nlp.pipeline\n",
    "# Tagger identifies verb, noun etc\n",
    "# Parser identifies relationships b/w different tokens\n",
    "# ner labels named entities"
   ]
  },
  {
   "cell_type": "code",
   "execution_count": 23,
   "metadata": {
    "id": "T-rTTsUOUBgy"
   },
   "outputs": [],
   "source": [
    "attribute = []\n",
    "attribute_token = []\n",
    "aim = []\n",
    "aim_token = []\n",
    "deontic = []\n",
    "deontic_token = []\n",
    "aim_2 = []\n",
    "aim_2_token = []\n"
   ]
  },
  {
   "cell_type": "markdown",
   "metadata": {
    "id": "taKwIct-ownU"
   },
   "source": [
    "For Attribute"
   ]
  },
  {
   "cell_type": "code",
   "execution_count": 24,
   "metadata": {
    "id": "XcLlfG2ume-i"
   },
   "outputs": [
    {
     "name": "stdout",
     "output_type": "stream",
     "text": [
      "Provided\n",
      "that\n",
      "nothing\n"
     ]
    }
   ],
   "source": [
    "i = 0\n",
    "for entity in doc:\n",
    "    print(entity)\n",
    "    if ((entity.pos_ == \"PROPN\" or entity.pos_ == \"NOUN\" or \"PRON\") and (entity.dep_ == \"nsubjpass\" or entity.dep_ == \"nsubj\")):\n",
    "        attribute.append(entity.text)\n",
    "        attribute_token.append(entity)\n",
    "        for attr in entity.children:\n",
    "            if attr.dep_ == 'conj' and (attr.pos_ == \"PROPN\" or attr.pos_ == \"NOUN\"):\n",
    "                attribute.append(attr.text)\n",
    "                attribute_token.append(attr)\n",
    "    \n",
    "    if(len(attribute)>0):\n",
    "        break"
   ]
  },
  {
   "cell_type": "code",
   "execution_count": 25,
   "metadata": {
    "colab": {
     "base_uri": "https://localhost:8080/"
    },
    "id": "4MS7Z8Zome69",
    "outputId": "b6cddbfb-73d8-486f-f741-2ab338afce30"
   },
   "outputs": [
    {
     "name": "stdout",
     "output_type": "stream",
     "text": [
      "[nothing]\n"
     ]
    }
   ],
   "source": [
    "print(attribute_token)"
   ]
  },
  {
   "cell_type": "markdown",
   "metadata": {
    "id": "FlXg3r-DozOy"
   },
   "source": [
    "For Deontic"
   ]
  },
  {
   "cell_type": "code",
   "execution_count": 26,
   "metadata": {
    "id": "66m6SiHrme35"
   },
   "outputs": [
    {
     "name": "stdout",
     "output_type": "stream",
     "text": [
      "Provided\n",
      "that\n",
      "nothing\n",
      "contained\n",
      "in\n",
      "this sub-\n",
      "section\n",
      "shall\n"
     ]
    }
   ],
   "source": [
    "for entity in doc:\n",
    "    print(entity)\n",
    "    if ((entity.pos_ == \"AUX\") and (entity.dep_ == \"aux\" or entity.dep_ == \"auxpass\")):\n",
    "        deontic.append(entity.text)\n",
    "        deontic_token.append(entity)\n",
    "        break\n",
    "  \n",
    "  "
   ]
  },
  {
   "cell_type": "code",
   "execution_count": 27,
   "metadata": {
    "colab": {
     "base_uri": "https://localhost:8080/"
    },
    "id": "kDf_I2Nxyfxt",
    "outputId": "8de5a4dc-5f78-4140-e308-3a6b8ed8d10c"
   },
   "outputs": [
    {
     "name": "stdout",
     "output_type": "stream",
     "text": [
      "['shall']\n"
     ]
    }
   ],
   "source": [
    "print(deontic)"
   ]
  },
  {
   "cell_type": "markdown",
   "metadata": {
    "id": "BvS4kyk2yBMA"
   },
   "source": [
    "For Aim"
   ]
  },
  {
   "cell_type": "code",
   "execution_count": 28,
   "metadata": {
    "id": "tUgaBEqtyASy"
   },
   "outputs": [],
   "source": [
    "for entity in doc:\n",
    "  if (entity.pos_ =='NOUN' or entity.pos_ =='VERB'):\n",
    "    for child in entity.children:\n",
    "      if (child in attribute_token) and (child.dep_ == 'nsubj' or child.dep_ =='nsubjpass'):\n",
    "        aim.append(entity.text)\n",
    "        aim_token.append(entity)\n",
    "\n",
    "        for attr in entity.children:\n",
    "          if attr.dep_ == 'conj' and (attr.pos_ == \"NOUN\" or attr.pos_ == \"VERB\"):\n",
    "            aim.append(attr.text)\n",
    "            aim_token.append(attr)\n",
    "  \n",
    "  if(len(aim)>0):\n",
    "    break"
   ]
  },
  {
   "cell_type": "code",
   "execution_count": 29,
   "metadata": {
    "colab": {
     "base_uri": "https://localhost:8080/"
    },
    "id": "PSYZ72s_gcI0",
    "outputId": "b68de588-2d6e-4d56-b581-220ebf7a9675"
   },
   "outputs": [
    {
     "name": "stdout",
     "output_type": "stream",
     "text": [
      "['render']\n"
     ]
    }
   ],
   "source": [
    "print(aim)"
   ]
  },
  {
   "cell_type": "markdown",
   "metadata": {
    "id": "uUG8Q5J3dPWc"
   },
   "source": [
    "Aim Updated code"
   ]
  },
  {
   "cell_type": "code",
   "execution_count": 30,
   "metadata": {
    "id": "zBPkwInWdOW4"
   },
   "outputs": [],
   "source": [
    "for entity in doc:\n",
    "  if (entity.pos_ =='VERB'):\n",
    "    for child in entity.children:\n",
    "      if (child in deontic_token) and (child.dep_ == 'aux'):\n",
    "        aim_2.append(entity.text)\n",
    "        aim_2_token.append(entity)\n",
    "\n",
    "        for attr in entity.children:\n",
    "          if attr.dep_ == 'conj' and (attr.pos_ == \"NOUN\" or attr.pos_ == \"VERB\"):\n",
    "            aim.append(attr.text)\n",
    "            aim_token.append(attr)\n",
    "  \n",
    "  if(len(aim_2)>0):\n",
    "    break"
   ]
  },
  {
   "cell_type": "code",
   "execution_count": 31,
   "metadata": {
    "colab": {
     "base_uri": "https://localhost:8080/"
    },
    "id": "6Js2IT1C1dbt",
    "outputId": "3f93ac3d-91a4-48d6-f8e4-86dc790f644f"
   },
   "outputs": [
    {
     "name": "stdout",
     "output_type": "stream",
     "text": [
      "['render']\n"
     ]
    }
   ],
   "source": [
    "print(aim_2)"
   ]
  },
  {
   "cell_type": "markdown",
   "metadata": {
    "id": "JhYdd1Kl3qKd"
   },
   "source": [
    "## Heuristic 2\n"
   ]
  },
  {
   "cell_type": "code",
   "execution_count": 32,
   "metadata": {
    "id": "rXdTrCU8J1Sb"
   },
   "outputs": [],
   "source": [
    "sentence = \"Where in respect of an industrial dispute relating to the rates of wages payable to any of the employees employed in a scheduled employment, any proceeding is pending before a Tribunal or National Tribunal under the Industrial Disputes Act, 1947 (24 of 1947) or before any like authority under any other law for the time being in force, or an award made by any Tribunal, National Tribunal or such authority is in operation, and a notification fixing or revising the minimum rates of wages in respect of the scheduled employment is issued during the pendency of such proceeding or the operation of the award, then, notwithstanding anything contained in this Act, the minimum rates of wages so fixed or so revised shall not apply to those employees during the period in which the proceeding is pending and the award made therein is in operation or, as the case may be, where the notification is issued during the period of operation of an award, during that period; and where such proceeding or award relates to the rates of wages payable to all the employees in the scheduled employment, no minimum rates of wages shall be fixed or revised in respect of that employment during the said period.\"\n",
    "doc = nlp(sentence)"
   ]
  },
  {
   "cell_type": "code",
   "execution_count": 33,
   "metadata": {
    "id": "mAOqsN5XJ69W"
   },
   "outputs": [],
   "source": [
    "# Merge noun phrases into one token.\n",
    "doc = merge_phrases(doc)\n",
    "# Attach punctuation to tokens\n",
    "doc = merge_punct(doc)"
   ]
  },
  {
   "cell_type": "code",
   "execution_count": 34,
   "metadata": {},
   "outputs": [],
   "source": [
    "root_tokens = []"
   ]
  },
  {
   "cell_type": "code",
   "execution_count": 35,
   "metadata": {
    "id": "MI5T_py3J9KW"
   },
   "outputs": [
    {
     "name": "stdout",
     "output_type": "stream",
     "text": [
      "Where SCONJ advmod ['in', 'is', 'apply'] []\n",
      "in ADP prep ['is', 'apply'] ['Where', 'respect']\n",
      "respect NOUN pobj ['in', 'is', 'apply'] ['of']\n",
      "of ADP prep ['respect', 'in', 'is', 'apply'] ['an industrial dispute']\n",
      "an industrial dispute NOUN pobj ['of', 'respect', 'in', 'is', 'apply'] ['relating']\n",
      "relating VERB acl ['an industrial dispute', 'of', 'respect', 'in', 'is', 'apply'] ['to']\n",
      "to ADP prep ['relating', 'an industrial dispute', 'of', 'respect', 'in', 'is', 'apply'] ['the rates']\n",
      "the rates NOUN pobj ['to', 'relating', 'an industrial dispute', 'of', 'respect', 'in', 'is', 'apply'] ['of']\n",
      "of ADP prep ['the rates', 'to', 'relating', 'an industrial dispute', 'of', 'respect', 'in', 'is', 'apply'] ['wages']\n",
      "wages NOUN pobj ['of', 'the rates', 'to', 'relating', 'an industrial dispute', 'of', 'respect', 'in', 'is', 'apply'] ['payable']\n",
      "payable ADJ amod ['wages', 'of', 'the rates', 'to', 'relating', 'an industrial dispute', 'of', 'respect', 'in', 'is', 'apply'] ['to']\n",
      "to ADP prep ['payable', 'wages', 'of', 'the rates', 'to', 'relating', 'an industrial dispute', 'of', 'respect', 'in', 'is', 'apply'] ['any']\n",
      "any PRON pobj ['to', 'payable', 'wages', 'of', 'the rates', 'to', 'relating', 'an industrial dispute', 'of', 'respect', 'in', 'is', 'apply'] ['of']\n",
      "of ADP prep ['any', 'to', 'payable', 'wages', 'of', 'the rates', 'to', 'relating', 'an industrial dispute', 'of', 'respect', 'in', 'is', 'apply'] ['the employees']\n",
      "the employees NOUN pobj ['of', 'any', 'to', 'payable', 'wages', 'of', 'the rates', 'to', 'relating', 'an industrial dispute', 'of', 'respect', 'in', 'is', 'apply'] ['employed']\n",
      "employed VERB acl ['the employees', 'of', 'any', 'to', 'payable', 'wages', 'of', 'the rates', 'to', 'relating', 'an industrial dispute', 'of', 'respect', 'in', 'is', 'apply'] ['in']\n",
      "in ADP prep ['employed', 'the employees', 'of', 'any', 'to', 'payable', 'wages', 'of', 'the rates', 'to', 'relating', 'an industrial dispute', 'of', 'respect', 'in', 'is', 'apply'] ['a scheduled employment,']\n",
      "a scheduled employment, NOUN pobj ['in', 'employed', 'the employees', 'of', 'any', 'to', 'payable', 'wages', 'of', 'the rates', 'to', 'relating', 'an industrial dispute', 'of', 'respect', 'in', 'is', 'apply'] []\n",
      "any proceeding NOUN nsubj ['is', 'apply'] []\n",
      "is AUX advcl ['apply'] ['in', 'any proceeding', 'pending']\n",
      "pending VERB acomp ['is', 'apply'] ['before']\n",
      "before ADP prep ['pending', 'is', 'apply'] ['a Tribunal', 'or']\n",
      "a Tribunal PROPN pobj ['before', 'pending', 'is', 'apply'] ['or', 'National Tribunal', 'under', '24']\n",
      "or CCONJ cc ['a Tribunal', 'before', 'pending', 'is', 'apply'] []\n",
      "National Tribunal PROPN conj ['a Tribunal', 'before', 'pending', 'is', 'apply'] []\n",
      "under ADP prep ['a Tribunal', 'before', 'pending', 'is', 'apply'] ['the Industrial Disputes Act,']\n",
      "the Industrial Disputes Act, PROPN pobj ['under', 'a Tribunal', 'before', 'pending', 'is', 'apply'] ['1947 (']\n",
      "1947 ( NUM npadvmod ['the Industrial Disputes Act,', 'under', 'a Tribunal', 'before', 'pending', 'is', 'apply'] []\n",
      "24 NUM appos ['a Tribunal', 'before', 'pending', 'is', 'apply'] ['of']\n",
      "of ADP prep ['24', 'a Tribunal', 'before', 'pending', 'is', 'apply'] ['1947)']\n",
      "1947) NUM pobj ['of', '24', 'a Tribunal', 'before', 'pending', 'is', 'apply'] []\n",
      "or CCONJ cc ['before', 'pending', 'is', 'apply'] []\n",
      "before ADP prep ['is', 'apply'] ['any like authority']\n",
      "any like authority NOUN pobj ['before', 'is', 'apply'] ['under', 'or']\n",
      "under ADP prep ['any like authority', 'before', 'is', 'apply'] ['any other law']\n",
      "any other law NOUN pobj ['under', 'any like authority', 'before', 'is', 'apply'] ['for']\n",
      "for ADP prep ['any other law', 'under', 'any like authority', 'before', 'is', 'apply'] ['the time']\n",
      "the time NOUN pobj ['for', 'any other law', 'under', 'any like authority', 'before', 'is', 'apply'] ['being']\n",
      "being AUX acl ['the time', 'for', 'any other law', 'under', 'any like authority', 'before', 'is', 'apply'] ['in']\n",
      "in ADP prep ['being', 'the time', 'for', 'any other law', 'under', 'any like authority', 'before', 'is', 'apply'] ['force,']\n",
      "force, NOUN pobj ['in', 'being', 'the time', 'for', 'any other law', 'under', 'any like authority', 'before', 'is', 'apply'] []\n",
      "or CCONJ cc ['any like authority', 'before', 'is', 'apply'] []\n",
      "an award NOUN nsubj ['is', 'apply'] ['made']\n",
      "made VERB acl ['an award', 'is', 'apply'] ['by']\n",
      "by ADP agent ['made', 'an award', 'is', 'apply'] ['any Tribunal,']\n",
      "any Tribunal, PROPN pobj ['by', 'made', 'an award', 'is', 'apply'] ['National Tribunal']\n",
      "National Tribunal PROPN conj ['any Tribunal,', 'by', 'made', 'an award', 'is', 'apply'] ['or', 'such authority']\n",
      "or CCONJ cc ['National Tribunal', 'any Tribunal,', 'by', 'made', 'an award', 'is', 'apply'] []\n",
      "such authority NOUN conj ['National Tribunal', 'any Tribunal,', 'by', 'made', 'an award', 'is', 'apply'] []\n",
      "is AUX advcl ['apply'] ['before', 'an award', 'in', 'and', 'issued']\n",
      "in ADP prep ['is', 'apply'] ['operation,']\n",
      "operation, NOUN pobj ['in', 'is', 'apply'] []\n",
      "and CCONJ cc ['is', 'apply'] []\n",
      "a notification fixing NOUN nsubjpass ['issued', 'is', 'apply'] ['or', 'revising']\n",
      "or CCONJ cc ['a notification fixing', 'issued', 'is', 'apply'] []\n",
      "revising VERB conj ['a notification fixing', 'issued', 'is', 'apply'] ['the minimum rates', 'in']\n",
      "the minimum rates NOUN dobj ['revising', 'a notification fixing', 'issued', 'is', 'apply'] ['of']\n",
      "of ADP prep ['the minimum rates', 'revising', 'a notification fixing', 'issued', 'is', 'apply'] ['wages']\n",
      "wages NOUN pobj ['of', 'the minimum rates', 'revising', 'a notification fixing', 'issued', 'is', 'apply'] []\n",
      "in ADP prep ['revising', 'a notification fixing', 'issued', 'is', 'apply'] ['respect']\n",
      "respect NOUN pobj ['in', 'revising', 'a notification fixing', 'issued', 'is', 'apply'] ['of']\n",
      "of ADP prep ['respect', 'in', 'revising', 'a notification fixing', 'issued', 'is', 'apply'] ['the scheduled employment']\n",
      "the scheduled employment NOUN pobj ['of', 'respect', 'in', 'revising', 'a notification fixing', 'issued', 'is', 'apply'] []\n",
      "is AUX auxpass ['issued', 'is', 'apply'] []\n",
      "issued VERB conj ['is', 'apply'] ['a notification fixing', 'is', 'during']\n",
      "during ADP prep ['issued', 'is', 'apply'] ['the pendency']\n",
      "the pendency NOUN pobj ['during', 'issued', 'is', 'apply'] ['of']\n",
      "of ADP prep ['the pendency', 'during', 'issued', 'is', 'apply'] ['such proceeding']\n",
      "such proceeding NOUN pobj ['of', 'the pendency', 'during', 'issued', 'is', 'apply'] ['or', 'the operation']\n",
      "or CCONJ cc ['such proceeding', 'of', 'the pendency', 'during', 'issued', 'is', 'apply'] []\n",
      "the operation NOUN conj ['such proceeding', 'of', 'the pendency', 'during', 'issued', 'is', 'apply'] ['of']\n",
      "of ADP prep ['the operation', 'such proceeding', 'of', 'the pendency', 'during', 'issued', 'is', 'apply'] ['the award,']\n",
      "the award, NOUN pobj ['of', 'the operation', 'such proceeding', 'of', 'the pendency', 'during', 'issued', 'is', 'apply'] []\n",
      "then, ADV advmod ['apply'] []\n",
      "notwithstanding ADP prep ['apply'] ['anything']\n",
      "anything PRON pobj ['notwithstanding', 'apply'] ['contained']\n",
      "contained VERB acl ['anything', 'notwithstanding', 'apply'] ['in']\n",
      "in ADP prep ['contained', 'anything', 'notwithstanding', 'apply'] ['this Act,']\n",
      "this Act, PROPN pobj ['in', 'contained', 'anything', 'notwithstanding', 'apply'] []\n",
      "the minimum rates NOUN nsubj ['apply'] ['of']\n",
      "of ADP prep ['the minimum rates', 'apply'] ['wages']\n",
      "wages NOUN pobj ['of', 'the minimum rates', 'apply'] ['fixed']\n",
      "so ADV advmod ['fixed', 'wages', 'of', 'the minimum rates', 'apply'] []\n",
      "fixed VERB amod ['wages', 'of', 'the minimum rates', 'apply'] ['so', 'or', 'so', 'revised']\n",
      "or CCONJ cc ['fixed', 'wages', 'of', 'the minimum rates', 'apply'] []\n",
      "so ADV conj ['fixed', 'wages', 'of', 'the minimum rates', 'apply'] []\n",
      "revised VERB conj ['fixed', 'wages', 'of', 'the minimum rates', 'apply'] []\n",
      "shall AUX aux ['apply'] []\n",
      "not PART neg ['apply'] []\n",
      "apply \t VERB \t\n",
      "\n",
      "\n",
      "apply VERB ROOT [] ['is', 'is', 'then,', 'notwithstanding', 'the minimum rates', 'shall', 'not', 'to', 'during', 'and', 'made']\n",
      "to ADP prep ['apply'] ['those employees']\n",
      "those employees NOUN pobj ['to', 'apply'] []\n",
      "during ADP prep ['apply'] ['the period']\n",
      "the period NOUN pobj ['during', 'apply'] ['pending']\n",
      "in ADP prep ['pending', 'the period', 'during', 'apply'] ['which']\n",
      "which PRON pobj ['in', 'pending', 'the period', 'during', 'apply'] []\n",
      "the proceeding NOUN nsubj ['is', 'pending', 'the period', 'during', 'apply'] []\n",
      "is AUX aux ['pending', 'the period', 'during', 'apply'] ['the proceeding']\n",
      "pending VERB relcl ['the period', 'during', 'apply'] ['in', 'is']\n",
      "and CCONJ cc ['apply'] []\n",
      "the award NOUN nsubj ['made', 'apply'] []\n",
      "made VERB conj ['apply'] ['the award', 'therein', 'is', 'be,', 'issued', 'during', 'and', 'fixed']\n",
      "therein ADV advmod ['made', 'apply'] []\n",
      "is AUX ccomp ['made', 'apply'] ['in', 'or,']\n",
      "in ADP prep ['is', 'made', 'apply'] ['operation']\n",
      "operation NOUN pobj ['in', 'is', 'made', 'apply'] []\n",
      "or, CCONJ cc ['is', 'made', 'apply'] []\n",
      "as SCONJ mark ['be,', 'made', 'apply'] []\n",
      "the case NOUN nsubj ['be,', 'made', 'apply'] []\n",
      "may AUX aux ['be,', 'made', 'apply'] []\n",
      "be, AUX advcl ['made', 'apply'] ['as', 'the case', 'may']\n",
      "where SCONJ advmod ['issued', 'made', 'apply'] []\n",
      "the notification NOUN nsubjpass ['issued', 'made', 'apply'] []\n",
      "is AUX auxpass ['issued', 'made', 'apply'] []\n",
      "issued VERB ccomp ['made', 'apply'] ['where', 'the notification', 'is', 'during']\n",
      "during ADP prep ['issued', 'made', 'apply'] ['the period']\n",
      "the period NOUN pobj ['during', 'issued', 'made', 'apply'] ['of']\n",
      "of ADP prep ['the period', 'during', 'issued', 'made', 'apply'] ['operation']\n",
      "operation NOUN pobj ['of', 'the period', 'during', 'issued', 'made', 'apply'] ['of']\n",
      "of ADP prep ['operation', 'of', 'the period', 'during', 'issued', 'made', 'apply'] ['an award,']\n",
      "an award, NOUN pobj ['of', 'operation', 'of', 'the period', 'during', 'issued', 'made', 'apply'] []\n",
      "during ADP prep ['made', 'apply'] ['that period;']\n",
      "that period; NOUN pobj ['during', 'made', 'apply'] []\n",
      "and CCONJ cc ['made', 'apply'] []\n",
      "where SCONJ advmod ['relates', 'fixed', 'made', 'apply'] []\n",
      "such proceeding NOUN nsubj ['relates', 'fixed', 'made', 'apply'] ['or', 'award']\n",
      "or CCONJ cc ['such proceeding', 'relates', 'fixed', 'made', 'apply'] []\n",
      "award NOUN conj ['such proceeding', 'relates', 'fixed', 'made', 'apply'] []\n",
      "relates VERB advcl ['fixed', 'made', 'apply'] ['where', 'such proceeding', 'to']\n",
      "to ADP prep ['relates', 'fixed', 'made', 'apply'] ['the rates']\n",
      "the rates NOUN pobj ['to', 'relates', 'fixed', 'made', 'apply'] ['of']\n",
      "of ADP prep ['the rates', 'to', 'relates', 'fixed', 'made', 'apply'] ['wages']\n",
      "wages NOUN pobj ['of', 'the rates', 'to', 'relates', 'fixed', 'made', 'apply'] ['payable']\n",
      "payable ADJ amod ['wages', 'of', 'the rates', 'to', 'relates', 'fixed', 'made', 'apply'] ['to']\n",
      "to ADP prep ['payable', 'wages', 'of', 'the rates', 'to', 'relates', 'fixed', 'made', 'apply'] ['all the employees']\n",
      "all the employees NOUN pobj ['to', 'payable', 'wages', 'of', 'the rates', 'to', 'relates', 'fixed', 'made', 'apply'] ['in']\n",
      "in ADP prep ['all the employees', 'to', 'payable', 'wages', 'of', 'the rates', 'to', 'relates', 'fixed', 'made', 'apply'] ['the scheduled employment,']\n",
      "the scheduled employment, NOUN pobj ['in', 'all the employees', 'to', 'payable', 'wages', 'of', 'the rates', 'to', 'relates', 'fixed', 'made', 'apply'] []\n",
      "no minimum rates NOUN nsubjpass ['fixed', 'made', 'apply'] ['of']\n",
      "of ADP prep ['no minimum rates', 'fixed', 'made', 'apply'] ['wages']\n",
      "wages NOUN pobj ['of', 'no minimum rates', 'fixed', 'made', 'apply'] []\n",
      "shall AUX aux ['fixed', 'made', 'apply'] []\n",
      "be AUX auxpass ['fixed', 'made', 'apply'] []\n",
      "fixed VERB conj ['made', 'apply'] ['relates', 'no minimum rates', 'shall', 'be', 'or', 'revised']\n",
      "or CCONJ cc ['fixed', 'made', 'apply'] []\n",
      "revised VERB conj ['fixed', 'made', 'apply'] ['in', 'during']\n",
      "in ADP prep ['revised', 'fixed', 'made', 'apply'] ['respect']\n",
      "respect NOUN pobj ['in', 'revised', 'fixed', 'made', 'apply'] ['of']\n",
      "of ADP prep ['respect', 'in', 'revised', 'fixed', 'made', 'apply'] ['that employment']\n",
      "that employment NOUN pobj ['of', 'respect', 'in', 'revised', 'fixed', 'made', 'apply'] []\n",
      "during ADP prep ['revised', 'fixed', 'made', 'apply'] ['the said period.']\n",
      "the said period. NOUN pobj ['during', 'revised', 'fixed', 'made', 'apply'] []\n"
     ]
    }
   ],
   "source": [
    "for token in doc:\n",
    "    ancestors = [t.text for t in token.ancestors]\n",
    "    ancestors_token = [t for t in token.ancestors]\n",
    "    children = [t.text for t in token.children]\n",
    "    children_token = [t for t in token.children]\n",
    "    left = [t.text for t in token.lefts]\n",
    "    right = [t.text for t in token.rights]\n",
    "    if(token.dep_ == \"ROOT\"):\n",
    "        root_tokens.append(token)\n",
    "        print(token.text, \"\\t\", \n",
    "          token.pos_, \"\\t\" )\n",
    "        print(\"\\n\")\n",
    "    print(token.text, token.pos_, token.dep_,ancestors,children)\n"
   ]
  },
  {
   "cell_type": "code",
   "execution_count": 36,
   "metadata": {},
   "outputs": [
    {
     "data": {
      "text/plain": [
       "[apply]"
      ]
     },
     "execution_count": 36,
     "metadata": {},
     "output_type": "execute_result"
    }
   ],
   "source": [
    "root_tokens"
   ]
  },
  {
   "cell_type": "code",
   "execution_count": 37,
   "metadata": {
    "id": "UOqsfz29KDau"
   },
   "outputs": [
    {
     "name": "stdout",
     "output_type": "stream",
     "text": [
      "1\n"
     ]
    }
   ],
   "source": [
    "root_verb = []\n",
    "root_aux = []\n",
    "root_noun = []\n",
    "root_others = []\n",
    "case = 5\n",
    "\n",
    "for token in root_tokens:\n",
    "    if(token.pos_ == 'VERB'):\n",
    "        root_verb.append(token)\n",
    "    elif(token.pos_ == 'AUX'):\n",
    "        root_aux.append(token)\n",
    "    elif(token.pos_ == 'NOUN'):\n",
    "        root_noun.append(token)\n",
    "    else:\n",
    "        root_others.append(token)\n",
    "\n",
    "if(len(root_verb)>0):\n",
    "    case = 1\n",
    "elif(len(root_aux)>0):\n",
    "    case = 2\n",
    "elif(len(root_noun)>0):\n",
    "    case = 3\n",
    "elif(len(root_others)>0):\n",
    "    case = 4\n",
    "print(case)"
   ]
  },
  {
   "cell_type": "markdown",
   "metadata": {
    "id": "xUy92b1kKFHm"
   },
   "source": [
    "### CASE 1\n"
   ]
  },
  {
   "cell_type": "code",
   "execution_count": 38,
   "metadata": {},
   "outputs": [],
   "source": [
    "aim_token = []\n",
    "attr_token = []\n",
    "deontic_token = []"
   ]
  },
  {
   "cell_type": "markdown",
   "metadata": {},
   "source": [
    "**AIM**"
   ]
  },
  {
   "cell_type": "code",
   "execution_count": 39,
   "metadata": {},
   "outputs": [
    {
     "name": "stdout",
     "output_type": "stream",
     "text": [
      "apply\n"
     ]
    }
   ],
   "source": [
    "#working on root_verb\n",
    "flag = 0\n",
    "#first adding all VERBS with conj and ccomp to the root_verb list\n",
    "for token in root_verb:\n",
    "    for children in token.children:\n",
    "        if(children.dep_ == 'ccomp' or children.dep_ == 'conj'):\n",
    "            root_verb.append(children)\n",
    "\n",
    "#in GIVEN ORDER in the list, if we find a token with both nsubj and aux then we return it\n",
    "for token in root_verb:\n",
    "    children_dep = [child.dep_ for child in token.children]\n",
    "    str1 = \"nsubj\"\n",
    "    str2 = \"aux\"\n",
    "    \n",
    "    if(str1 in children_dep and str2 in children_dep):\n",
    "        print(token.text)\n",
    "        aim_token.append(token)\n",
    "        flag = 1\n",
    "        break #only 1 aim in this case\n",
    "#nusbjpass and aux if not aux and nsubj"
   ]
  },
  {
   "cell_type": "code",
   "execution_count": 40,
   "metadata": {},
   "outputs": [
    {
     "name": "stdout",
     "output_type": "stream",
     "text": [
      "[apply]\n"
     ]
    }
   ],
   "source": [
    "#if we dont find any such VERB then we take entire root_verb as aim (some of them might be right as there could be multiple)\n",
    "if(flag == 0):\n",
    "    aim_token = root_verb\n",
    "print(aim_token)\n",
    "#NOTE: AIM never empty since CASE 1\n",
    "#ALSO "
   ]
  },
  {
   "cell_type": "markdown",
   "metadata": {},
   "source": [
    "**DEONTIC**"
   ]
  },
  {
   "cell_type": "code",
   "execution_count": 41,
   "metadata": {},
   "outputs": [],
   "source": [
    "keywords = [\"shall\",\"may\",\"must\"]\n",
    "secondary_keywords = [\"is\",\"has\",\"have\",\"was\",\"having\"]\n",
    "#deontic won't be empty due to keywords and secondary keywords\n",
    "for token in aim_token:\n",
    "    for child in token.children:\n",
    "        if(child.dep_ =='aux' and child.pos_ == 'AUX'):\n",
    "            deontic_token.append(child)\n",
    "            break\n",
    "    if(len(deontic_token)>0):\n",
    "        break\n",
    "\n",
    "#if no such deontic found then search in keywords and later in secondary keywords\n",
    "if(len(deontic_token) == 0):\n",
    "    for keyword in keywords:\n",
    "        for token in doc:\n",
    "            if(keyword in token.text and token.pos_ ==\"AUX\"):\n",
    "                deontic_token.append(token)\n",
    "                break\n",
    "        if(len(deontic_token)>0):\n",
    "            break\n",
    "\n",
    "if(len(deontic_token) == 0):\n",
    "    for keyword in secondary_keywords:\n",
    "        for token in doc:\n",
    "            if(keyword in token.text and token.pos_ ==\"AUX\"):\n",
    "                deontic_token.append(token)\n",
    "                break\n",
    "        if(len(deontic_token)>0):\n",
    "            break"
   ]
  },
  {
   "cell_type": "code",
   "execution_count": 42,
   "metadata": {},
   "outputs": [
    {
     "name": "stdout",
     "output_type": "stream",
     "text": [
      "[shall]\n"
     ]
    }
   ],
   "source": [
    "print(deontic_token)"
   ]
  },
  {
   "cell_type": "code",
   "execution_count": 43,
   "metadata": {},
   "outputs": [],
   "source": [
    "#first check for nsubj\n",
    "for token in aim_token:\n",
    "    for entity in token.children:\n",
    "        if(entity.dep_ =='nsubj' and (entity.pos_ == \"PROPN\" or entity.pos_ == \"NOUN\" or entity.pos_ == \"PRON\")):\n",
    "            attr_token.append(entity)\n",
    "\n",
    "#else check for nsubpass\n",
    "if(len(attr_token) == 0):\n",
    "    for token in aim_token:\n",
    "        for entity in token.children:\n",
    "            if(entity.dep_ =='nsubjpass' and (entity.pos_ == \"PROPN\" or entity.pos_ == \"NOUN\" or entity.pos_ == \"PRON\")):\n",
    "                attr_token.append(entity)\n",
    "\n",
    "#else if empty then check in entire sentence\n",
    "if(len(attr_token) == 0):\n",
    "    for token in doc:\n",
    "        for entity in token.children:\n",
    "            if(entity.dep_ =='nsubj' and (entity.pos_ == \"PROPN\" or entity.pos_ == \"NOUN\" or entity.pos_ == \"PRON\")):\n",
    "                attr_token.append(entity)\n",
    "                break\n",
    "        if(len(attr_token) > 0):\n",
    "            break\n",
    "\n",
    "if(len(attr_token) == 0):\n",
    "    for token in doc:\n",
    "        for entity in token.children:\n",
    "            if(entity.dep_ =='nsubjpass' and (entity.pos_ == \"PROPN\" or entity.pos_ == \"NOUN\" or entity.pos_ == \"PRON\")):\n",
    "                attr_token.append(entity)\n",
    "                break\n",
    "        if(len(attr_token) > 0):\n",
    "            break"
   ]
  },
  {
   "cell_type": "code",
   "execution_count": 44,
   "metadata": {},
   "outputs": [
    {
     "name": "stdout",
     "output_type": "stream",
     "text": [
      "[the minimum rates]\n"
     ]
    }
   ],
   "source": [
    "print(attr_token)"
   ]
  },
  {
   "cell_type": "markdown",
   "metadata": {},
   "source": [
    "### CASE 2"
   ]
  },
  {
   "cell_type": "code",
   "execution_count": 45,
   "metadata": {},
   "outputs": [],
   "source": [
    "aim_token = []\n",
    "attr_token = []\n",
    "deontic_token = []"
   ]
  },
  {
   "cell_type": "markdown",
   "metadata": {},
   "source": [
    "**AIM**"
   ]
  },
  {
   "cell_type": "code",
   "execution_count": 46,
   "metadata": {},
   "outputs": [],
   "source": [
    "for token in root_aux:\n",
    "    for children in token.children:\n",
    "        if((children.dep_ == 'ccomp' or children.dep_ == 'conj') and children.pos_ == 'VERB'):\n",
    "            aim_token.append(children)\n",
    "\n",
    "if(len(aim_token) == 0):\n",
    "    for children in token.children:\n",
    "        if((children.dep_ == 'advcl') and children.pos_ == 'NOUN'):\n",
    "            aim_token.append(children)\n",
    "    for token in aim_token:\n",
    "        for children in token.children:\n",
    "            if((children.dep_ == 'ccomp' or children.dep_ == 'conj') and children.pos_ == 'VERB'):\n",
    "                aim_token.append(children)"
   ]
  },
  {
   "cell_type": "code",
   "execution_count": 47,
   "metadata": {},
   "outputs": [
    {
     "name": "stdout",
     "output_type": "stream",
     "text": [
      "[]\n"
     ]
    }
   ],
   "source": [
    "print(aim_token)"
   ]
  },
  {
   "cell_type": "markdown",
   "metadata": {},
   "source": [
    "**DEONTIC**"
   ]
  },
  {
   "cell_type": "code",
   "execution_count": 48,
   "metadata": {},
   "outputs": [],
   "source": [
    "#for deontic first check aux from root_aux else check from aim else from keywords and secondary keywords\n",
    "for token in root_aux:\n",
    "    for children in token.children:\n",
    "        if((children.dep_ == 'aux') and children.pos_ == 'AUX'):\n",
    "            deontic_token.append(children)\n",
    "            break\n",
    "    if(len(deontic_token) > 0):\n",
    "        break\n",
    "\n",
    "if(len(deontic_token) == 0):\n",
    "    for token in aim_token:\n",
    "        for child in token.children:\n",
    "            if(child.dep_ =='aux' and child.pos_ == 'AUX'):\n",
    "                deontic_token.append(child)\n",
    "                break\n",
    "        if(len(deontic_token)>0):\n",
    "            break\n",
    "\n",
    "#if no such deontic found then search in keywords and later in secondary keywords\n",
    "if(len(deontic_token) == 0):\n",
    "    for keyword in keywords:\n",
    "        for token in doc:\n",
    "            if(keyword in token.text and token.pos_ ==\"AUX\"):\n",
    "                deontic_token.append(token)\n",
    "                break\n",
    "        if(len(deontic_token)>0):\n",
    "            break\n",
    "\n",
    "if(len(deontic_token) == 0):\n",
    "    for keyword in secondary_keywords:\n",
    "        for token in doc:\n",
    "            if(keyword in token.text and token.pos_ ==\"AUX\"):\n",
    "                deontic_token.append(token)\n",
    "                break\n",
    "        if(len(deontic_token)>0):\n",
    "            break"
   ]
  },
  {
   "cell_type": "code",
   "execution_count": 49,
   "metadata": {},
   "outputs": [
    {
     "name": "stdout",
     "output_type": "stream",
     "text": [
      "[shall]\n"
     ]
    }
   ],
   "source": [
    "print(deontic_token)"
   ]
  },
  {
   "cell_type": "markdown",
   "metadata": {},
   "source": [
    "**ATTRIBUTE**"
   ]
  },
  {
   "cell_type": "code",
   "execution_count": 50,
   "metadata": {},
   "outputs": [],
   "source": [
    "for token in root_aux:\n",
    "    for entity in token.children:\n",
    "        if(entity.dep_ =='nsubj' and (entity.pos_ == \"PROPN\" or entity.pos_ == \"NOUN\" or entity.pos_ == \"PRON\")):\n",
    "            attr_token.append(entity)\n",
    "\n",
    "for token in aim_token:\n",
    "    for entity in token.children:\n",
    "        if(entity.dep_ =='nsubj' and (entity.pos_ == \"PROPN\" or entity.pos_ == \"NOUN\" or entity.pos_ == \"PRON\")):\n",
    "            attr_token.append(entity)\n",
    "\n",
    "#else check for nsubpass\n",
    "if(len(attr_token) == 0):\n",
    "    for token in aim_token:\n",
    "        for entity in token.children:\n",
    "            if(entity.dep_ =='nsubjpass' and (entity.pos_ == \"PROPN\" or entity.pos_ == \"NOUN\" or entity.pos_ == \"PRON\")):\n",
    "                attr_token.append(entity)\n",
    "\n",
    "#else if empty then check in entire sentence\n",
    "if(len(attr_token) == 0):\n",
    "    for token in doc:\n",
    "        for entity in token.children:\n",
    "            if(entity.dep_ =='nsubj' and (entity.pos_ == \"PROPN\" or entity.pos_ == \"NOUN\" or entity.pos_ == \"PRON\")):\n",
    "                attr_token.append(entity)\n",
    "                break\n",
    "        if(len(attr_token) > 0):\n",
    "            break\n",
    "\n",
    "if(len(attr_token) == 0):\n",
    "    for token in doc:\n",
    "        for entity in token.children:\n",
    "            if(entity.dep_ =='nsubjpass' and (entity.pos_ == \"PROPN\" or entity.pos_ == \"NOUN\" or entity.pos_ == \"PRON\")):\n",
    "                attr_token.append(entity)\n",
    "                break\n",
    "        if(len(attr_token) > 0):\n",
    "            break"
   ]
  },
  {
   "cell_type": "code",
   "execution_count": 51,
   "metadata": {},
   "outputs": [
    {
     "name": "stdout",
     "output_type": "stream",
     "text": [
      "[any proceeding]\n"
     ]
    }
   ],
   "source": [
    "print(attr_token)"
   ]
  },
  {
   "cell_type": "markdown",
   "metadata": {},
   "source": [
    "**CASE 4**"
   ]
  },
  {
   "cell_type": "code",
   "execution_count": 52,
   "metadata": {},
   "outputs": [],
   "source": [
    "entity_set = []"
   ]
  },
  {
   "cell_type": "code",
   "execution_count": 53,
   "metadata": {},
   "outputs": [],
   "source": [
    "#trying to extract the most common case - a verb with nsubj AND aux both OR try heuristic1\n",
    "for token  in doc:\n",
    "    if(token.pos_ == 'VERB'):\n",
    "        child_dependency = [child.dep_ for child in token.children]\n",
    "        str1 = \"aux\"\n",
    "        str2 = \"nsubj\"\n",
    "        if((str1 in child_dependency) and (str2 in child_dependency)):\n",
    "            req_token = []\n",
    "            req_token.append(token)\n",
    "            for dependencies in token.children:\n",
    "                if(dependencies.dep_ == 'aux'):\n",
    "                    req_token.append(dependencies)\n",
    "                    break\n",
    "            for dependencies in token.children:\n",
    "                if(dependencies.dep_ == 'nsubj'):\n",
    "                    req_token.append(dependencies)\n",
    "                    break\n",
    "            entity_set.append(req_token)"
   ]
  },
  {
   "cell_type": "code",
   "execution_count": 54,
   "metadata": {},
   "outputs": [
    {
     "name": "stdout",
     "output_type": "stream",
     "text": [
      "[[apply, shall, the minimum rates]]\n"
     ]
    }
   ],
   "source": [
    "print(entity_set)"
   ]
  }
 ],
 "metadata": {
  "colab": {
   "provenance": []
  },
  "kernelspec": {
   "display_name": "Python 3 (ipykernel)",
   "language": "python",
   "name": "python3"
  },
  "language_info": {
   "codemirror_mode": {
    "name": "ipython",
    "version": 3
   },
   "file_extension": ".py",
   "mimetype": "text/x-python",
   "name": "python",
   "nbconvert_exporter": "python",
   "pygments_lexer": "ipython3",
   "version": "3.10.4"
  }
 },
 "nbformat": 4,
 "nbformat_minor": 1
}
